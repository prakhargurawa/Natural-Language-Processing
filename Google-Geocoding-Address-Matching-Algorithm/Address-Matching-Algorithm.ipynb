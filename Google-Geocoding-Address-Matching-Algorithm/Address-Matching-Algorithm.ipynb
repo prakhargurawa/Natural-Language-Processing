{
 "cells": [
  {
   "cell_type": "code",
   "execution_count": 46,
   "id": "99530e30",
   "metadata": {},
   "outputs": [],
   "source": [
    "# Import relevant libraries\n",
    "from geopy import distance\n",
    "import requests\n",
    "import haversine as hs # !pip install haversine\n",
    "import unidecode # pip install unidecode\n",
    "import re\n",
    "from fuzzywuzzy import fuzz"
   ]
  },
  {
   "cell_type": "code",
   "execution_count": 47,
   "id": "3a2aafb9",
   "metadata": {},
   "outputs": [],
   "source": [
    "# API Key and URL for Google Geocoding API Reference : https://developers.google.com/maps/documentation/geocoding/?csw=1\n",
    "API_key = '<INSERT YOUR API KEY>'\n",
    "base_url = 'https://maps.googleapis.com/maps/api/geocode/json?'"
   ]
  },
  {
   "cell_type": "code",
   "execution_count": 51,
   "id": "3dd44f38",
   "metadata": {},
   "outputs": [
    {
     "data": {
      "text/plain": [
       "{'results': [{'address_components': [{'long_name': '85',\n",
       "     'short_name': '85',\n",
       "     'types': ['street_number']},\n",
       "    {'long_name': 'Rue du Faubourg Saint-Honoré',\n",
       "     'short_name': 'Rue du Faubourg Saint-Honoré',\n",
       "     'types': ['route']},\n",
       "    {'long_name': 'Paris',\n",
       "     'short_name': 'Paris',\n",
       "     'types': ['locality', 'political']},\n",
       "    {'long_name': 'Département de Paris',\n",
       "     'short_name': 'Département de Paris',\n",
       "     'types': ['administrative_area_level_2', 'political']},\n",
       "    {'long_name': 'Île-de-France',\n",
       "     'short_name': 'IDF',\n",
       "     'types': ['administrative_area_level_1', 'political']},\n",
       "    {'long_name': 'France',\n",
       "     'short_name': 'FR',\n",
       "     'types': ['country', 'political']},\n",
       "    {'long_name': '75008', 'short_name': '75008', 'types': ['postal_code']}],\n",
       "   'formatted_address': '85 Rue du Faubourg Saint-Honoré, 75008 Paris, France',\n",
       "   'geometry': {'location': {'lat': 48.8717574, 'lng': 2.3135507},\n",
       "    'location_type': 'ROOFTOP',\n",
       "    'viewport': {'northeast': {'lat': 48.8731871802915,\n",
       "      'lng': 2.314952080291502},\n",
       "     'southwest': {'lat': 48.8704892197085, 'lng': 2.312254119708498}}},\n",
       "   'partial_match': True,\n",
       "   'place_id': 'ChIJg9UBNc9v5kcReZ-a3DF1JtA',\n",
       "   'plus_code': {'compound_code': 'V8C7+PC Paris, France',\n",
       "    'global_code': '8FW4V8C7+PC'},\n",
       "   'types': ['establishment', 'lodging', 'point_of_interest']}],\n",
       " 'status': 'OK'}"
      ]
     },
     "execution_count": 51,
     "metadata": {},
     "output_type": "execute_result"
    }
   ],
   "source": [
    "# Example using the Geocoding API\n",
    "\"\"\"\n",
    "FORMAT OF GOOGLE'S GEODIRECTORY API (for reference):\n",
    "https://jsonformatter.org/b23640\n",
    "\"\"\"\n",
    "address = 'Bridgestreet Champs Elysees Accommodations Paris'\n",
    "params = {\n",
    "        'key': API_key,\n",
    "        'address': address\n",
    "    }\n",
    "response = requests.get(base_url, params=params).json()\n",
    "response"
   ]
  },
  {
   "cell_type": "code",
   "execution_count": 52,
   "id": "f4dd5662",
   "metadata": {},
   "outputs": [],
   "source": [
    "def getGeoCoordinates(address,API_key=API_key,base_url=base_url):\n",
    "    \"\"\"\n",
    "    Utility function to get coordinate of an address\n",
    "    \"\"\"\n",
    "    params = {\n",
    "        'key': API_key,\n",
    "        'address': address\n",
    "    }\n",
    "    response = requests.get(base_url, params=params).json()\n",
    "    geometry,lat,long,address_new = None,None,None,None\n",
    "    if response['status'] == 'OK':\n",
    "        geometry = response['results'][0]['geometry']\n",
    "        lat = geometry['location']['lat']\n",
    "        long = geometry['location']['lng']\n",
    "        address_new = response['results'][0]['formatted_address']\n",
    "    return {\"lat\":lat,\"long\":long}  "
   ]
  },
  {
   "cell_type": "code",
   "execution_count": 64,
   "id": "fc269902",
   "metadata": {},
   "outputs": [],
   "source": [
    "def getGeoData(address,API_key=API_key,base_url=base_url):\n",
    "    \"\"\"\n",
    "    Utility function to get full information using geocoding API for an address\n",
    "    \"\"\"\n",
    "    params = {\n",
    "        'key': API_key,\n",
    "        'address': address\n",
    "    }\n",
    "    response = requests.get(base_url, params=params).json()\n",
    "    addressData = dict()\n",
    "    if response['status'] == 'OK':\n",
    "        for content in response['results'][0][\"address_components\"]:\n",
    "            for typ in content[\"types\"]:\n",
    "                if typ != \"political\": # removing political label just for clarity \n",
    "                    addressData[typ] = content[\"long_name\"]\n",
    "                    \n",
    "        geometry = response['results'][0]['geometry']\n",
    "        addressData[\"lat\"] = geometry['location']['lat']\n",
    "        addressData[\"long\"] = geometry['location']['lng']\n",
    "        addressData[\"address_new\"] = response['results'][0]['formatted_address']      \n",
    "    return addressData "
   ]
  },
  {
   "cell_type": "code",
   "execution_count": 65,
   "id": "c7c71b90",
   "metadata": {},
   "outputs": [
    {
     "data": {
      "text/plain": [
       "{'street_number': '134',\n",
       " 'route': 'Ashewood Walk',\n",
       " 'neighborhood': 'Summerhill',\n",
       " 'locality': 'Portlaoise',\n",
       " 'administrative_area_level_1': 'County Laois',\n",
       " 'country': 'Ireland',\n",
       " 'postal_code': 'R32 C52X',\n",
       " 'lat': 53.0295704,\n",
       " 'long': -7.272656499999999,\n",
       " 'address_new': '134 Summerhill Ln, Ashewood Walk, Summerhill, Portlaoise, Co. Laois, R32 C52X, Ireland'}"
      ]
     },
     "execution_count": 65,
     "metadata": {},
     "output_type": "execute_result"
    }
   ],
   "source": [
    "getGeoData(\"134 Ashewood Walk, Summerhill Lane, Portlaoise\")"
   ]
  },
  {
   "cell_type": "code",
   "execution_count": 54,
   "id": "c6855b97",
   "metadata": {},
   "outputs": [],
   "source": [
    "def getDistanceGeoLocation(lat1,long1,lat2,long2):\n",
    "    \"\"\"\n",
    "    Utility function to find distance between two geo-locations.\n",
    "    Euclidean Distance works for the flat surface like a Cartesian plain however, Earth is not flat.\n",
    "    So we have to use a special type of formula known as Haversine Distance.\n",
    "    Reference :  https://towardsdatascience.com/calculating-distance-between-two-geolocations-in-python-26ad3afe287b\n",
    "    \"\"\"\n",
    "    return hs.haversine((lat1,long1),(lat2,long2)) # By default the haversine function returns distance in km"
   ]
  },
  {
   "cell_type": "code",
   "execution_count": 17,
   "id": "fce34d40",
   "metadata": {},
   "outputs": [
    {
     "data": {
      "text/plain": [
       "0.048400184820589214"
      ]
     },
     "execution_count": 17,
     "metadata": {},
     "output_type": "execute_result"
    }
   ],
   "source": [
    "# These coordinates are exact same addresses\n",
    "getDistanceGeoLocation(53.3023988,-6.263774100000001,53.3024516,-6.2644971)"
   ]
  },
  {
   "cell_type": "code",
   "execution_count": 55,
   "id": "aadcf7cb",
   "metadata": {},
   "outputs": [
    {
     "data": {
      "text/plain": [
       "0.5355256568130167"
      ]
     },
     "execution_count": 55,
     "metadata": {},
     "output_type": "execute_result"
    }
   ],
   "source": [
    "# These two points are very nearby place but not exact places\n",
    "getDistanceGeoLocation(26.890971,75.7415213,26.886815,75.7442499) "
   ]
  },
  {
   "cell_type": "code",
   "execution_count": 56,
   "id": "aa9657d7",
   "metadata": {},
   "outputs": [],
   "source": [
    "def getCleanAddress(address):\n",
    "    \"\"\"\n",
    "    Utility function to remove fadas, special string characters adapted from languages of other accents \n",
    "    Also remove dash(-) and period(.) and convert them in space, also remove every other non alphanumeric character\n",
    "    Sample test : getCleanAddress(\"stävänge dr-ive\")\n",
    "    \"\"\"\n",
    "    # Clean fadas, string accents are special string characters adapted from languages of other accents\n",
    "    cleanAddress = unidecode.unidecode(address) # Reference https://www.geeksforgeeks.org/how-to-remove-string-accents-using-python-3/\n",
    "    \n",
    "    # List of english symbols : https://grammar.yourdictionary.com/punctuation/what/fourteen-punctuation-marks.html\n",
    "    return re.sub('[^A-Za-z0-9\\s]+', '',cleanAddress.replace(\"-\",\" \").replace(\".\",\" \"))# Regex to match a string of characters that are not a letters or numbers"
   ]
  },
  {
   "cell_type": "code",
   "execution_count": 39,
   "id": "9e075db6",
   "metadata": {},
   "outputs": [],
   "source": [
    "def matchParameter(addrcomp1,addrcomp2,param,weights,debug=False):\n",
    "    \"\"\"\n",
    "    Function checks that component of address 1 and address 2 matching is greater than threshold\n",
    "    \"\"\"\n",
    "    if (param in addrcomp1) and (param in addrcomp2):\n",
    "            if debug:\n",
    "                print(param + \" matched\")  \n",
    "            if fuzz.ratio(addrcomp1[param], addrcomp2[param])>=weights[param]: # the matching ration between the two params\n",
    "                # for address 1 and address 2 should be greater than the threshold set up for that param\n",
    "                return True\n",
    "            else:\n",
    "                return False\n",
    "    return True"
   ]
  },
  {
   "cell_type": "code",
   "execution_count": 66,
   "id": "6dcd517a",
   "metadata": {},
   "outputs": [],
   "source": [
    "def compareAddress(addr1,addr2):\n",
    "    \"\"\"\n",
    "    Function to find whether two address are same or not\n",
    "    \"\"\"\n",
    "    addrcomp1 = getGeoData(addr1)\n",
    "    addrcomp2 = getGeoData(addr2)\n",
    "    # Threshold set for different params, for example the street number should always match 100% as it is a number\n",
    "    # for params like locality,administrative_area_level_1 you can have some leniency\n",
    "    weights = {\n",
    "        'street_number':100,\n",
    "        'route':80,\n",
    "        'neighborhood':80,\n",
    "        'postal_town':100,\n",
    "        'locality':80,\n",
    "        'administrative_area_level_1':80,\n",
    "        'administrative_area_level_2':80,\n",
    "        'country':100,\n",
    "        'postal_code':100    \n",
    "    }\n",
    "    \n",
    "    if len(addrcomp1)!=0 and len(addrcomp2)!=0: # Check whetehr the API was able to provide the results\n",
    "        dist = getDistanceGeoLocation(addrcomp1[\"lat\"],addrcomp1[\"long\"],addrcomp2[\"lat\"],addrcomp2[\"long\"])\n",
    "        print(\"The Haversine distance between addresses : \",dist)\n",
    "        if dist > 0.25 :\n",
    "            # The distance between the two addresses is gretaer than 0.25 km or 250 mt we can surely say these are different addresses\n",
    "            return {\"status\":\"unmatch\",\"reason\":\"distance between the two addresses greater than threshold set\"}\n",
    "        \n",
    "        addrcomp1 = {k:getCleanAddress(v.lower()) for k, v in addrcomp1.items() if isinstance(v, str)}\n",
    "        addrcomp2 = {k:getCleanAddress(v.lower()) for k, v in addrcomp2.items() if isinstance(v, str)}\n",
    "\n",
    "        for k,v in weights.items():\n",
    "            matched = matchParameter(addrcomp1,addrcomp2,k,weights,False)\n",
    "            if matched == False: # That particular param didnt matched as per threshold set\n",
    "                return {\"status\":\"unmatch\",\"reason\":k +\" not matched\"}\n",
    "        return {\"status\":\"match\",\"reason\":\"All Param matched\"}\n",
    "         \n",
    "    return {\"status\":\"unverified\",\"reason\":\"Google API was not able to resolve addresses\"}"
   ]
  },
  {
   "cell_type": "code",
   "execution_count": 58,
   "id": "a03fdc92",
   "metadata": {},
   "outputs": [
    {
     "name": "stdout",
     "output_type": "stream",
     "text": [
      "The Haversine distance between addresses :  0.048400184820589214\n"
     ]
    },
    {
     "data": {
      "text/plain": [
       "{'status': 'unmatch', 'reason': 'street_number not matched'}"
      ]
     },
     "execution_count": 58,
     "metadata": {},
     "output_type": "execute_result"
    }
   ],
   "source": [
    "compareAddress(\"5 Braemor Drive, Churchtown, Co.Dublin\",\"5 Braemor Dr, Newtown Little, Dublin 14,D14 NX40, Ireland\")"
   ]
  },
  {
   "cell_type": "code",
   "execution_count": 69,
   "id": "757e5b27",
   "metadata": {},
   "outputs": [
    {
     "name": "stdout",
     "output_type": "stream",
     "text": [
      "The Haversine distance between addresses :  0.048400184820589214\n"
     ]
    },
    {
     "data": {
      "text/plain": [
       "{'status': 'unmatch', 'reason': 'street_number not matched'}"
      ]
     },
     "execution_count": 69,
     "metadata": {},
     "output_type": "execute_result"
    }
   ],
   "source": [
    "compareAddress(\"5 Braemor Drive, Churchtown, Co.Dublin\",\"5 Braemor Dr, Newtown Little, Dublin 14\")"
   ]
  },
  {
   "cell_type": "code",
   "execution_count": 70,
   "id": "b2ad3522",
   "metadata": {},
   "outputs": [
    {
     "name": "stdout",
     "output_type": "stream",
     "text": [
      "The Haversine distance between addresses :  0.0\n"
     ]
    },
    {
     "data": {
      "text/plain": [
       "{'status': 'match', 'reason': 'All Param matched'}"
      ]
     },
     "execution_count": 70,
     "metadata": {},
     "output_type": "execute_result"
    }
   ],
   "source": [
    "compareAddress(\"134 Ashewood Walk, Summerhill Lane, Portlaoise\",\n",
    "               \"134 Summerhill Ln, Ashewood Walk, Summerhill, Portlaoise, Co. Laois, R32 C52X, Ireland\")"
   ]
  },
  {
   "cell_type": "code",
   "execution_count": 67,
   "id": "b8e35a34",
   "metadata": {},
   "outputs": [
    {
     "name": "stdout",
     "output_type": "stream",
     "text": [
      "The Haversine distance between addresses :  0.5355256568130167\n"
     ]
    },
    {
     "data": {
      "text/plain": [
       "{'status': 'unmatch',\n",
       " 'reason': 'distance between the two addresses greater than threshold set'}"
      ]
     },
     "execution_count": 67,
     "metadata": {},
     "output_type": "execute_result"
    }
   ],
   "source": [
    "compareAddress(\"584, Rani Sati Nagar, Ajmer Road, Jaipur, Rajasthan, 302019\",\n",
    "               \"579, Rani Sati Nagar, Ajmer Road, Jaipur, Rajasthan, 302019\")"
   ]
  }
 ],
 "metadata": {
  "kernelspec": {
   "display_name": "Python 3",
   "language": "python",
   "name": "python3"
  },
  "language_info": {
   "codemirror_mode": {
    "name": "ipython",
    "version": 3
   },
   "file_extension": ".py",
   "mimetype": "text/x-python",
   "name": "python",
   "nbconvert_exporter": "python",
   "pygments_lexer": "ipython3",
   "version": "3.8.8"
  }
 },
 "nbformat": 4,
 "nbformat_minor": 5
}
