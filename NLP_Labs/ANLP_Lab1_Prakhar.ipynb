{
  "nbformat": 4,
  "nbformat_minor": 0,
  "metadata": {
    "colab": {
      "name": "ANLP_Lab1_Prakhar.ipynb",
      "provenance": [],
      "collapsed_sections": []
    },
    "kernelspec": {
      "name": "python3",
      "display_name": "Python 3"
    },
    "accelerator": "GPU"
  },
  "cells": [
    {
      "cell_type": "markdown",
      "metadata": {
        "id": "uINPcf0XOGP0"
      },
      "source": [
        "# ANLP LAB 1\n",
        "\n",
        "---\n",
        "### Learning Objectives\n",
        "\n",
        "Our focus in this session is to get to know a few libraries which are currently widely used in deep learning applications, namely TensorFlow and Keras. As an exercise, we will try to implement a model using the linear regression method in Tensorflow.\n",
        "\n",
        "---\n",
        "\n"
      ]
    },
    {
      "cell_type": "markdown",
      "metadata": {
        "id": "xucpFQ_4Llru"
      },
      "source": [
        "## Tensorflow\n",
        "\n",
        "TensorFlow is an open source software library for numerical computation using data flow graphs. The graph nodes represent mathematical operations, while the graph edges represent the multidimensional data arrays (tensors) that flow between them. This flexible architecture enables you to deploy computation to one or more CPUs or GPUs in a desktop, server, or mobile device without rewriting code. TensorFlow also includes TensorBoard, a data visualization toolkit.\n",
        "\n",
        "This section is based on the [Google Tensorflow tutorials](https://www.tensorflow.org/tutorials). "
      ]
    },
    {
      "cell_type": "markdown",
      "metadata": {
        "id": "FrRJK7bd4w2l"
      },
      "source": [
        "Simple addition example to introduce you to the tensorflow session."
      ]
    },
    {
      "cell_type": "code",
      "metadata": {
        "id": "nSaRc1uB2W0F"
      },
      "source": [
        "%tensorflow_version 2.x\n",
        "import tensorflow as tf #Importing Tensorflow library as tf"
      ],
      "execution_count": 1,
      "outputs": []
    },
    {
      "cell_type": "markdown",
      "metadata": {
        "id": "OKeTeX8nNpv5"
      },
      "source": [
        "**Creating Tensors**\n",
        "\n",
        "\n",
        " After importing the TensorFlow library,  we  can  use  the   tf.constant operator  as  follows."
      ]
    },
    {
      "cell_type": "code",
      "metadata": {
        "id": "19ajdueR4WQA"
      },
      "source": [
        "x1 = tf.constant([1, 2, 3, 4])\n",
        "x2 = tf.constant([5, 6, 7, 8])"
      ],
      "execution_count": 2,
      "outputs": []
    },
    {
      "cell_type": "markdown",
      "metadata": {
        "id": "MmPK5e2nO3FD"
      },
      "source": [
        "**Creating operators**\n",
        "\n",
        "Now that we have a few starting tensors ready to be used, we can apply more interesting operators  such  as  addition  or  multiplication."
      ]
    },
    {
      "cell_type": "code",
      "metadata": {
        "id": "IEUFsLeE4Wal",
        "colab": {
          "base_uri": "https://localhost:8080/"
        },
        "outputId": "a35f17c9-8616-4b8d-85b5-71576adb92c5"
      },
      "source": [
        "result = x1 + x2\n",
        "print(result)\n",
        "\n",
        "result = tf.add(x1, x2)\n",
        "print(result)"
      ],
      "execution_count": 3,
      "outputs": [
        {
          "output_type": "stream",
          "text": [
            "tf.Tensor([ 6  8 10 12], shape=(4,), dtype=int32)\n",
            "tf.Tensor([ 6  8 10 12], shape=(4,), dtype=int32)\n"
          ],
          "name": "stdout"
        }
      ]
    },
    {
      "cell_type": "markdown",
      "metadata": {
        "id": "dY395cfgPPYs"
      },
      "source": [
        "\n",
        "Some  specific  examples of commonly used operators include : \n",
        "* tf.add(x, y) Add two tensors of the same type, x + y \n",
        "* tf.subtract(x, y)  Subtract tensors of the same type, x - y  \n",
        "* tf.multiply(x, y)  Multiply two tensors element -wise \n",
        "\n",
        "The official documentation carefully lays out all available math ops:  https://www.tensorflow.org/api_docs/cc/group/math-ops\n",
        "\n"
      ]
    },
    {
      "cell_type": "markdown",
      "metadata": {
        "id": "ZqPyUgMEdzB1"
      },
      "source": [
        "#### Question\n",
        "\n",
        "1.  Calculate $[1, 2, 3] + [3, 4, 5]$ using Tensorflow\n",
        "2.  Calculate $[4, 5, 6] - [2, 1, 4]$ using Tensorflow\n",
        "3.  Calculate $[2, 2, 2] \\times [3, 4, 5]$ using Tensorflow\n"
      ]
    },
    {
      "cell_type": "code",
      "metadata": {
        "id": "Og0ldiPy0gLr",
        "colab": {
          "base_uri": "https://localhost:8080/"
        },
        "outputId": "ef85cb0a-caea-4e10-c041-e0b0ad1e70c2"
      },
      "source": [
        "print(tf.add(tf.constant([1,2,3]),tf.constant([3,4,5])))\r\n",
        "print(tf.subtract(tf.constant([1,2,3]),tf.constant([3,4,5])))\r\n",
        "print(tf.multiply(tf.constant([1,2,3]),tf.constant([3,4,5])))"
      ],
      "execution_count": 8,
      "outputs": [
        {
          "output_type": "stream",
          "text": [
            "tf.Tensor([4 6 8], shape=(3,), dtype=int32)\n",
            "tf.Tensor([-2 -2 -2], shape=(3,), dtype=int32)\n",
            "tf.Tensor([ 3  8 15], shape=(3,), dtype=int32)\n"
          ],
          "name": "stdout"
        }
      ]
    },
    {
      "cell_type": "markdown",
      "metadata": {
        "id": "iQemxru3QDy1"
      },
      "source": [
        "**Executing operators \n",
        "with sessions**\n",
        "\n",
        "To  execute  an  operation  and   retrieve  its  calculated  value,  TensorFlow  requires  a  session.   Only a registered session may fill the values of a Tensor object. To do so, you must create a  session class using tf.Session() and  tell it to run an operator. The result will be a  value you can later use for further computations. \n"
      ]
    },
    {
      "cell_type": "code",
      "metadata": {
        "id": "DbieRyEE4WeP",
        "colab": {
          "base_uri": "https://localhost:8080/"
        },
        "outputId": "a0e81a10-ad83-4ddf-c5e0-62564ac073d1"
      },
      "source": [
        " # Launch the graph in a session.\n",
        " with tf.compat.v1.Session() as ses:\n",
        "\n",
        "     # Build a graph.\n",
        "     a = tf.constant(5.0)\n",
        "     b = tf.constant(6.0)\n",
        "     c = a * b\n",
        "\n",
        "     # Evaluate the tensor `c`.\n",
        "     print(ses.run(c))"
      ],
      "execution_count": 9,
      "outputs": [
        {
          "output_type": "stream",
          "text": [
            "30.0\n"
          ],
          "name": "stdout"
        }
      ]
    },
    {
      "cell_type": "markdown",
      "metadata": {
        "id": "IxdlRsp-2XVZ"
      },
      "source": [
        "By default colab runs on CPU. If you have GPU locally, try the same code in GPU to see the difference in time. "
      ]
    },
    {
      "cell_type": "markdown",
      "metadata": {
        "id": "T3KC9DkOFXgh"
      },
      "source": [
        "## Keras\n",
        "\n",
        "[Keras](https://keras.io/) is a high-level neural networks API, written in Python. \n",
        "\n",
        "Important features:\n",
        "\n",
        "- Keras is a front-end\n",
        "- It can use several back-ends: Tensorflow (Google), Theano (Montreal), and CNTK (Microsoft)\n",
        "- The back-end does the fast tensor multiplication etc.\n",
        "\n",
        "Use Keras if you need a deep learning library that:\n",
        "\n",
        "- Allows for easy and fast prototyping (through user friendliness, modularity, and extensibility).\n",
        "- Supports both convolutional networks and recurrent networks, as well as combinations of the two.\n",
        "- Runs seamlessly on CPU and GPU.\n",
        "\n",
        "Read the documentation at [Keras.io](https://keras.io/).\n",
        "\n",
        "### Getting started\n",
        "\n",
        "The core data structure of Keras is a `model`, a way to organize layers. The simplest type of model is the `Sequential` model, a linear stack of layers. For more complex architectures, you should use the Keras functional API, which allows to build arbitrary graphs of layers.\n",
        "\n",
        "Here is the `Sequential` model:\n"
      ]
    },
    {
      "cell_type": "code",
      "metadata": {
        "id": "7ERnBJ4PG-PR"
      },
      "source": [
        "import keras\n",
        "from keras.models import Sequential\n",
        "\n",
        "model = Sequential()"
      ],
      "execution_count": 10,
      "outputs": []
    },
    {
      "cell_type": "markdown",
      "metadata": {
        "id": "ZZF6BFOmHIWe"
      },
      "source": [
        "Stacking layers is as easy as `.add()`:"
      ]
    },
    {
      "cell_type": "code",
      "metadata": {
        "id": "JVYKwmolHHPL"
      },
      "source": [
        "from keras.layers import Dense\n",
        "\n",
        "model.add(Dense(units=64, activation='relu', input_dim=100))\n",
        "model.add(Dense(units=10, activation='softmax'))"
      ],
      "execution_count": 11,
      "outputs": []
    },
    {
      "cell_type": "markdown",
      "metadata": {
        "id": "fgLjMVgQQUDD"
      },
      "source": [
        "Once your model looks good, configure its learning process with `.compile()`:"
      ]
    },
    {
      "cell_type": "code",
      "metadata": {
        "id": "0PtR91BFQXeG"
      },
      "source": [
        "model.compile(loss='categorical_crossentropy',\n",
        "              optimizer='sgd',\n",
        "              metrics=['accuracy'])"
      ],
      "execution_count": 12,
      "outputs": []
    },
    {
      "cell_type": "markdown",
      "metadata": {
        "id": "wZqeyfH9Qdni"
      },
      "source": [
        "If you need to, you can further configure your optimizer. A core principle of Keras is to make things reasonably **simple**, while allowing the user to be fully in control when they need to (the ultimate control being the easy extensibility of the source code)."
      ]
    },
    {
      "cell_type": "code",
      "metadata": {
        "id": "PgAr_DTQQj34"
      },
      "source": [
        "model.compile(loss=keras.losses.categorical_crossentropy,\n",
        "              optimizer=keras.optimizers.SGD(lr=0.01, momentum=0.9, nesterov=True))"
      ],
      "execution_count": 13,
      "outputs": []
    },
    {
      "cell_type": "markdown",
      "metadata": {
        "id": "BaoECjaoQ4TE"
      },
      "source": [
        "\n",
        "---\n",
        "\n",
        "## Exercise\n",
        "### Linear Regresssion in Tensorflow\n",
        "\n",
        "---\n",
        "\n",
        "[Linear regression](http://www.stat.yale.edu/Courses/1997-98/101/linreg.htm) attempts to model the relationship between two variables by fitting a linear equation to observed data. One variable is considered to be an explanatory variable, and the other is considered to be a dependent variable. For example, a modeler might want to relate the weights of individuals to their heights using a linear regression model. \n",
        "\n",
        "This section covers\n",
        "\n",
        "*   Fitting a line to data points\n",
        "*   Fitting arbitary curves to data points\n",
        "*  Testing performance of these regression algrorithms\n",
        "*  Applying regression to real-world data\n"
      ]
    },
    {
      "cell_type": "code",
      "metadata": {
        "id": "xova71-BQ307"
      },
      "source": [
        "import numpy as np  # imports NumPy to generate initial raw data\n",
        "import matplotlib.pyplot  as  plt  # imports mtplotlib to visualize the data"
      ],
      "execution_count": 14,
      "outputs": []
    },
    {
      "cell_type": "markdown",
      "metadata": {
        "id": "ADdeJnED3Sap"
      },
      "source": [
        " \n",
        "\n",
        "*   Create input(x_train) values between -1 and 1 evenly spaced 101 valuse using np.linespace command.\n",
        "* Create `y_train` so that is generated by $y=2x+ 0.33 \\times random$\n",
        "* Hint: use np.random.randn for generating random_ value\n"
      ]
    },
    {
      "cell_type": "code",
      "metadata": {
        "id": "74FugD9GQ3xb"
      },
      "source": [
        "# Your code goes here\n",
        "x_train  = np.linspace(-1,1,101) \n",
        "y_train  = 2*x_train + 0.33*np.random.randn(101)\n",
        "# The output values are proportional to the input but with added noise"
      ],
      "execution_count": 15,
      "outputs": []
    },
    {
      "cell_type": "code",
      "metadata": {
        "id": "NHPHHlzgQ3rh",
        "colab": {
          "base_uri": "https://localhost:8080/",
          "height": 265
        },
        "outputId": "2b2b62c0-bf72-4108-e841-d3efc4b43446"
      },
      "source": [
        "plt.scatter(x_train, y_train)  \n",
        "plt.show()"
      ],
      "execution_count": 16,
      "outputs": [
        {
          "output_type": "display_data",
          "data": {
            "image/png": "[encoded data removed]",
            "text/plain": [
              "<Figure size 432x288 with 1 Axes>"
            ]
          },
          "metadata": {
            "tags": [],
            "needs_background": "light"
          }
        }
      ]
    },
    {
      "cell_type": "markdown",
      "metadata": {
        "id": "BMB4Hf3gSVXv"
      },
      "source": [
        "  **Hyperparameters**\n",
        "\n",
        "---\n",
        "\"In machine learning, a hyperparameter is a parameter whose value is set before the learning process begins. By contrast, the values of other parameters are derived via training.\" ([source](https://en.wikipedia.org/wiki/Hyperparameter_(machine_learning)))"
      ]
    },
    {
      "cell_type": "code",
      "metadata": {
        "id": "NfvGLOJ2Q3nE"
      },
      "source": [
        "learning_rate  = 0.01  \n",
        "training_epochs  = 100"
      ],
      "execution_count": 17,
      "outputs": []
    },
    {
      "cell_type": "markdown",
      "metadata": {
        "id": "nQrZdjhHSo-c"
      },
      "source": [
        "**Placeholders**\n",
        "\n",
        "---\n",
        "\n",
        "Set up the input and output nodes as placeholders since the value will be injected by `x_train` and `y_train`.\n",
        "\n",
        "See more about placeholders at https://www.tensorflow.org/api_docs/python/tf/placeholder."
      ]
    },
    {
      "cell_type": "code",
      "metadata": {
        "id": "dJECKD3eSlkm",
        "colab": {
          "base_uri": "https://localhost:8080/"
        },
        "outputId": "1470ed2d-3799-485b-8b2a-4ade518e67de"
      },
      "source": [
        "import tensorflow.compat.v1 as tf\n",
        "tf.disable_v2_behavior()\n",
        "\n",
        "X  =  tf.placeholder(tf.float32)  \n",
        "Y  =  tf.placeholder(tf.float32) "
      ],
      "execution_count": 19,
      "outputs": [
        {
          "output_type": "stream",
          "text": [
            "WARNING:tensorflow:From /usr/local/lib/python3.6/dist-packages/tensorflow/python/compat/v2_compat.py:96: disable_resource_variables (from tensorflow.python.ops.variable_scope) is deprecated and will be removed in a future version.\n",
            "Instructions for updating:\n",
            "non-resource variables are not supported in the long term\n"
          ],
          "name": "stdout"
        }
      ]
    },
    {
      "cell_type": "markdown",
      "metadata": {
        "id": "VWBfgcF8TFpl"
      },
      "source": [
        " \n",
        "Define the model as `y = w*x`"
      ]
    },
    {
      "cell_type": "code",
      "metadata": {
        "id": "bLWSE5DZSlZG"
      },
      "source": [
        "def  model(X, w):  \n",
        "  return  tf.multiply(X, w)   "
      ],
      "execution_count": 20,
      "outputs": []
    },
    {
      "cell_type": "markdown",
      "metadata": {
        "id": "WRMcGgABTP1e"
      },
      "source": [
        "Set up the weight variable"
      ]
    },
    {
      "cell_type": "code",
      "metadata": {
        "id": "o_ghA4fxSlPH"
      },
      "source": [
        "w  =  tf.Variable( 0.0 , name= \"weights\" )"
      ],
      "execution_count": 21,
      "outputs": []
    },
    {
      "cell_type": "markdown",
      "metadata": {
        "id": "VshRRxXafSkH"
      },
      "source": [
        "**Cost Function**\n",
        "\n",
        "$cost = \\sqrt(\\sum((y-y_{model})^2)$ \n",
        "\n",
        "Implement this function in tensorflow.\n"
      ]
    },
    {
      "cell_type": "code",
      "metadata": {
        "id": "oabDDZXtTaZ3"
      },
      "source": [
        "y_model = model(X, w)\n",
        "# your code goes here\n",
        "diff = tf.subtract(Y,y_model)\n",
        "square = tf.multiply(diff,diff)\n",
        "sumo = tf.math.reduce_sum(square)\n",
        "cost = tf.math.sqrt(sumo)"
      ],
      "execution_count": 22,
      "outputs": []
    },
    {
      "cell_type": "markdown",
      "metadata": {
        "id": "XgI2OJs0VBiW"
      },
      "source": [
        "And now, optimize your model using gradient descent optimizer."
      ]
    },
    {
      "cell_type": "code",
      "metadata": {
        "id": "OaFTpIMMTaPd"
      },
      "source": [
        "train_op = tf.train.GradientDescentOptimizer(learning_rate).minimize(cost)"
      ],
      "execution_count": 23,
      "outputs": []
    },
    {
      "cell_type": "markdown",
      "metadata": {
        "id": "rApS1Ai8VW5h"
      },
      "source": [
        " Set up a session and initialize all variables"
      ]
    },
    {
      "cell_type": "code",
      "metadata": {
        "id": "a4WEKDEtSlCP"
      },
      "source": [
        "sess = tf.Session()\n",
        "init = tf.global_variables_initializer()\n",
        "sess.run(init)"
      ],
      "execution_count": 24,
      "outputs": []
    },
    {
      "cell_type": "code",
      "metadata": {
        "id": "30PpG9trVRR8"
      },
      "source": [
        "for epoch in range(training_epochs): # Loop through the dataset multiple times\n",
        "  for (x,y) in zip(x_train, y_train): # Loop through each item in the datase\n",
        "    sess.run(train_op, feed_dict={X:x,Y:y}) #Update the model parameter(s) to try to minimize the cost function"
      ],
      "execution_count": 25,
      "outputs": []
    },
    {
      "cell_type": "markdown",
      "metadata": {
        "id": "QpGxERETWNkY"
      },
      "source": [
        "Obtain the final parameter value"
      ]
    },
    {
      "cell_type": "code",
      "metadata": {
        "id": "l9EeKo7kVREo"
      },
      "source": [
        "w_val = sess.run(w)"
      ],
      "execution_count": 26,
      "outputs": []
    },
    {
      "cell_type": "code",
      "metadata": {
        "id": "_sNdijiIVQ3Z"
      },
      "source": [
        "sess.close() # close the sesion"
      ],
      "execution_count": 27,
      "outputs": []
    },
    {
      "cell_type": "markdown",
      "metadata": {
        "id": "PmC8FfImWYA1"
      },
      "source": [
        "Plot the original data and best fit line."
      ]
    },
    {
      "cell_type": "code",
      "metadata": {
        "id": "J3TPYdZhWY4x",
        "colab": {
          "base_uri": "https://localhost:8080/",
          "height": 265
        },
        "outputId": "14a1989c-195d-43ef-809d-863bb9e2e978"
      },
      "source": [
        "plt.scatter(x_train, y_train)  \n",
        "y_learned = x_train * w_val  \n",
        "plt.plot(x_train, y_learned, 'r')  \n",
        "plt.show()"
      ],
      "execution_count": 28,
      "outputs": [
        {
          "output_type": "display_data",
          "data": {
            "image/png": "[encoded data removed]",
            "text/plain": [
              "<Figure size 432x288 with 1 Axes>"
            ]
          },
          "metadata": {
            "tags": [],
            "needs_background": "light"
          }
        }
      ]
    },
    {
      "cell_type": "markdown",
      "metadata": {
        "id": "z5jzhAtaW0mG"
      },
      "source": [
        "**Question**\n",
        "\n",
        "---\n",
        "\n",
        "Change the `y_train` so that it is generated by the polynomial $y =x^2 + 2x + 0.33 \\times random$ and fit with the linear model again. What is the change in the value of `cost`?\n"
      ]
    },
    {
      "cell_type": "code",
      "metadata": {
        "id": "4_WnQTbltb8L",
        "colab": {
          "base_uri": "https://localhost:8080/",
          "height": 513
        },
        "outputId": "5ce43182-9e93-41c9-f3b5-d85e2f4e6dd2"
      },
      "source": [
        "# Your code goes here\r\n",
        "x_train  = np.linspace(-1,1,101) \r\n",
        "y_train  = x_train*x_train + 2*x_train +  0.33*np.random.randn(101)\r\n",
        "# The output values are proportional to the input but with added noise\r\n",
        "plt.scatter(x_train, y_train)  \r\n",
        "plt.show()\r\n",
        "\r\n",
        "\r\n",
        "learning_rate  = 0.01  \r\n",
        "training_epochs  = 100\r\n",
        "\r\n",
        "# https://stackoverflow.com/questions/37383812/tensorflow-module-object-has-no-attribute-placeholder\r\n",
        "import tensorflow.compat.v1 as tf\r\n",
        "tf.disable_v2_behavior()\r\n",
        "\r\n",
        "X  =  tf.placeholder(tf.float32)  \r\n",
        "Y  =  tf.placeholder(tf.float32) \r\n",
        "\r\n",
        "def model(X, w):  \r\n",
        "  return  tf.multiply(X, w)   \r\n",
        "\r\n",
        "w  =  tf.Variable( 0.0 , name= \"weights\" )\r\n",
        "\r\n",
        "y_model = model(X, w)\r\n",
        "# your code goes here\r\n",
        "diff = tf.subtract(Y,y_model)\r\n",
        "square = tf.multiply(diff,diff)\r\n",
        "sumo = tf.math.reduce_sum(square)\r\n",
        "cost = tf.math.sqrt(sumo)\r\n",
        "\r\n",
        "train_op = tf.train.GradientDescentOptimizer(learning_rate).minimize(cost)\r\n",
        "\r\n",
        "sess = tf.Session()\r\n",
        "init = tf.global_variables_initializer()\r\n",
        "sess.run(init)\r\n",
        "\r\n",
        "\r\n",
        "for epoch in range(training_epochs): # Loop through the dataset multiple times\r\n",
        "  for (x,y) in zip(x_train, y_train): # Loop through each item in the datase\r\n",
        "    sess.run(train_op, feed_dict={X:x,Y:y}) #Update the model parameter(s) to try to minimize the cost function\r\n",
        "    \r\n",
        "w_val = sess.run(w)\r\n",
        "\r\n",
        "\r\n",
        "sess.close() # close the sesion\r\n",
        "\r\n",
        "\r\n",
        "plt.scatter(x_train, y_train)  \r\n",
        "y_learned = x_train * w_val  \r\n",
        "plt.plot(x_train, y_learned, 'r')  \r\n",
        "plt.show()"
      ],
      "execution_count": 29,
      "outputs": [
        {
          "output_type": "display_data",
          "data": {
            "image/png": "[encoded data removed]",
            "text/plain": [
              "<Figure size 432x288 with 1 Axes>"
            ]
          },
          "metadata": {
            "tags": [],
            "needs_background": "light"
          }
        },
        {
          "output_type": "display_data",
          "data": {
            "image/png": "[encoded data removed]",
            "text/plain": [
              "<Figure size 432x288 with 1 Axes>"
            ]
          },
          "metadata": {
            "tags": [],
            "needs_background": "light"
          }
        }
      ]
    }
  ]
}